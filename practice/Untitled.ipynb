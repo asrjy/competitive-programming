{
 "cells": [
  {
   "cell_type": "markdown",
   "id": "1d91abaa",
   "metadata": {},
   "source": [
    "1 1 1 \n",
    "\n",
    "1 1 1 \n",
    "\n",
    "1 1 1\n",
    "\n",
    "tl = 2\n",
    "\n",
    "tm =  "
   ]
  },
  {
   "cell_type": "code",
   "execution_count": null,
   "id": "5661a5a5",
   "metadata": {},
   "outputs": [],
   "source": [
    "nrows = int(input())\n",
    "mat = []\n",
    "for i in range(nrows):\n",
    "    row = list(map(int, input().split()))\n",
    "    mat.append(row)\n",
    "\n",
    "ncols = len(mat[0])\n",
    "\n",
    "val = 0\n",
    "\n",
    "for i in range(nrows):\n",
    "    for j in range(ncols):\n",
    "        if mat[i][j] == 1:\n",
    "            if i == 0:\n",
    "                if j == 0:\n",
    "                    if mat[i][j+1] == 1:\n",
    "                        val += 3\n",
    "                    if mat[i+1]    \n",
    "                    \n",
    "                    \n",
    "            elif i == (nrows-1):\n",
    "                if j == 0 or j == (ncols-1):\n",
    "                    \n",
    "            elif j == 0:\n",
    "            \n",
    "            elif j == (ncols-1):\n",
    "            \n",
    "            else:\n",
    "                \n",
    "                "
   ]
  }
 ],
 "metadata": {
  "kernelspec": {
   "display_name": "Python 3",
   "language": "python",
   "name": "python3"
  },
  "language_info": {
   "codemirror_mode": {
    "name": "ipython",
    "version": 3
   },
   "file_extension": ".py",
   "mimetype": "text/x-python",
   "name": "python",
   "nbconvert_exporter": "python",
   "pygments_lexer": "ipython3",
   "version": "3.7.6"
  }
 },
 "nbformat": 4,
 "nbformat_minor": 5
}
